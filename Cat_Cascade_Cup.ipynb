{
  "nbformat": 4,
  "nbformat_minor": 0,
  "metadata": {
    "colab": {
      "name": "Copy of Cascade_Cup.ipynb",
      "provenance": [],
      "collapsed_sections": []
    },
    "kernelspec": {
      "display_name": "Python 3",
      "name": "python3"
    },
    "accelerator": "GPU"
  },
  "cells": [
    {
      "cell_type": "code",
      "metadata": {
        "id": "B9OnCc-ffQoB"
      },
      "source": [
        "import pandas as pd \n",
        "import io "
      ],
      "execution_count": 2,
      "outputs": []
    },
    {
      "cell_type": "code",
      "metadata": {
        "colab": {
          "base_uri": "https://localhost:8080/"
        },
        "id": "ZANoGpp_lV6t",
        "outputId": "e91ce3dd-145a-4d5f-cb48-bbbbd37d09b5"
      },
      "source": [
        "from google.colab import drive\n",
        "\n",
        "drive.mount(\"/content/drive\")"
      ],
      "execution_count": 3,
      "outputs": [
        {
          "output_type": "stream",
          "text": [
            "Drive already mounted at /content/drive; to attempt to forcibly remount, call drive.mount(\"/content/drive\", force_remount=True).\n"
          ],
          "name": "stdout"
        }
      ]
    },
    {
      "cell_type": "code",
      "metadata": {
        "colab": {
          "base_uri": "https://localhost:8080/",
          "height": 241
        },
        "id": "5ioiKPfUfmgY",
        "outputId": "a194c48e-543c-467c-ce64-2960726cf885"
      },
      "source": [
        "data = pd.read_csv(\"/content/drive/MyDrive/train_age_dataset.csv\")\n",
        "data.head()"
      ],
      "execution_count": 4,
      "outputs": [
        {
          "output_type": "execute_result",
          "data": {
            "text/html": [
              "<div>\n",
              "<style scoped>\n",
              "    .dataframe tbody tr th:only-of-type {\n",
              "        vertical-align: middle;\n",
              "    }\n",
              "\n",
              "    .dataframe tbody tr th {\n",
              "        vertical-align: top;\n",
              "    }\n",
              "\n",
              "    .dataframe thead th {\n",
              "        text-align: right;\n",
              "    }\n",
              "</style>\n",
              "<table border=\"1\" class=\"dataframe\">\n",
              "  <thead>\n",
              "    <tr style=\"text-align: right;\">\n",
              "      <th></th>\n",
              "      <th>Unnamed: 0</th>\n",
              "      <th>userId</th>\n",
              "      <th>tier</th>\n",
              "      <th>gender</th>\n",
              "      <th>following_rate</th>\n",
              "      <th>followers_avg_age</th>\n",
              "      <th>following_avg_age</th>\n",
              "      <th>max_repetitive_punc</th>\n",
              "      <th>num_of_hashtags_per_action</th>\n",
              "      <th>emoji_count_per_action</th>\n",
              "      <th>punctuations_per_action</th>\n",
              "      <th>number_of_words_per_action</th>\n",
              "      <th>avgCompletion</th>\n",
              "      <th>avgTimeSpent</th>\n",
              "      <th>avgDuration</th>\n",
              "      <th>avgComments</th>\n",
              "      <th>creations</th>\n",
              "      <th>content_views</th>\n",
              "      <th>num_of_comments</th>\n",
              "      <th>weekends_trails_watched_per_day</th>\n",
              "      <th>weekdays_trails_watched_per_day</th>\n",
              "      <th>slot1_trails_watched_per_day</th>\n",
              "      <th>slot2_trails_watched_per_day</th>\n",
              "      <th>slot3_trails_watched_per_day</th>\n",
              "      <th>slot4_trails_watched_per_day</th>\n",
              "      <th>avgt2</th>\n",
              "      <th>age_group</th>\n",
              "    </tr>\n",
              "  </thead>\n",
              "  <tbody>\n",
              "    <tr>\n",
              "      <th>0</th>\n",
              "      <td>265153</td>\n",
              "      <td>48958844</td>\n",
              "      <td>2</td>\n",
              "      <td>1</td>\n",
              "      <td>0.0</td>\n",
              "      <td>0.0</td>\n",
              "      <td>0.0</td>\n",
              "      <td>0</td>\n",
              "      <td>0.0</td>\n",
              "      <td>0.0</td>\n",
              "      <td>0.000000</td>\n",
              "      <td>0.000000</td>\n",
              "      <td>0.463330</td>\n",
              "      <td>34.160000</td>\n",
              "      <td>53.996091</td>\n",
              "      <td>0</td>\n",
              "      <td>0.000000</td>\n",
              "      <td>0.200000</td>\n",
              "      <td>0.0</td>\n",
              "      <td>0.041667</td>\n",
              "      <td>0.025000</td>\n",
              "      <td>0.0</td>\n",
              "      <td>0.000000</td>\n",
              "      <td>0.175000</td>\n",
              "      <td>0.033333</td>\n",
              "      <td>0.0</td>\n",
              "      <td>1</td>\n",
              "    </tr>\n",
              "    <tr>\n",
              "      <th>1</th>\n",
              "      <td>405231</td>\n",
              "      <td>51100441</td>\n",
              "      <td>2</td>\n",
              "      <td>2</td>\n",
              "      <td>0.0</td>\n",
              "      <td>0.0</td>\n",
              "      <td>0.0</td>\n",
              "      <td>0</td>\n",
              "      <td>0.0</td>\n",
              "      <td>0.0</td>\n",
              "      <td>0.076923</td>\n",
              "      <td>0.153846</td>\n",
              "      <td>0.429468</td>\n",
              "      <td>15.285714</td>\n",
              "      <td>96.231625</td>\n",
              "      <td>0</td>\n",
              "      <td>0.008475</td>\n",
              "      <td>0.093220</td>\n",
              "      <td>0.0</td>\n",
              "      <td>0.012712</td>\n",
              "      <td>0.018644</td>\n",
              "      <td>0.0</td>\n",
              "      <td>0.084746</td>\n",
              "      <td>0.000000</td>\n",
              "      <td>0.033898</td>\n",
              "      <td>82.5</td>\n",
              "      <td>2</td>\n",
              "    </tr>\n",
              "    <tr>\n",
              "      <th>2</th>\n",
              "      <td>57867</td>\n",
              "      <td>6887426</td>\n",
              "      <td>2</td>\n",
              "      <td>1</td>\n",
              "      <td>0.0</td>\n",
              "      <td>0.0</td>\n",
              "      <td>0.0</td>\n",
              "      <td>0</td>\n",
              "      <td>0.0</td>\n",
              "      <td>0.0</td>\n",
              "      <td>0.000000</td>\n",
              "      <td>0.000000</td>\n",
              "      <td>0.341657</td>\n",
              "      <td>22.000000</td>\n",
              "      <td>83.051415</td>\n",
              "      <td>0</td>\n",
              "      <td>0.000000</td>\n",
              "      <td>0.002786</td>\n",
              "      <td>0.0</td>\n",
              "      <td>0.000000</td>\n",
              "      <td>0.000557</td>\n",
              "      <td>0.0</td>\n",
              "      <td>0.002786</td>\n",
              "      <td>0.000000</td>\n",
              "      <td>0.000000</td>\n",
              "      <td>0.0</td>\n",
              "      <td>1</td>\n",
              "    </tr>\n",
              "    <tr>\n",
              "      <th>3</th>\n",
              "      <td>272618</td>\n",
              "      <td>50742404</td>\n",
              "      <td>2</td>\n",
              "      <td>1</td>\n",
              "      <td>0.0</td>\n",
              "      <td>0.0</td>\n",
              "      <td>0.0</td>\n",
              "      <td>0</td>\n",
              "      <td>0.0</td>\n",
              "      <td>0.0</td>\n",
              "      <td>0.000000</td>\n",
              "      <td>0.000000</td>\n",
              "      <td>0.005735</td>\n",
              "      <td>3.000000</td>\n",
              "      <td>523.080000</td>\n",
              "      <td>0</td>\n",
              "      <td>0.000000</td>\n",
              "      <td>0.008403</td>\n",
              "      <td>0.0</td>\n",
              "      <td>0.000000</td>\n",
              "      <td>0.001681</td>\n",
              "      <td>0.0</td>\n",
              "      <td>0.000000</td>\n",
              "      <td>0.000000</td>\n",
              "      <td>0.008403</td>\n",
              "      <td>0.0</td>\n",
              "      <td>1</td>\n",
              "    </tr>\n",
              "    <tr>\n",
              "      <th>4</th>\n",
              "      <td>251123</td>\n",
              "      <td>45589200</td>\n",
              "      <td>2</td>\n",
              "      <td>2</td>\n",
              "      <td>0.0</td>\n",
              "      <td>0.0</td>\n",
              "      <td>0.0</td>\n",
              "      <td>0</td>\n",
              "      <td>0.0</td>\n",
              "      <td>0.0</td>\n",
              "      <td>0.000000</td>\n",
              "      <td>0.000000</td>\n",
              "      <td>0.456549</td>\n",
              "      <td>12.333333</td>\n",
              "      <td>53.766640</td>\n",
              "      <td>0</td>\n",
              "      <td>0.000000</td>\n",
              "      <td>0.204918</td>\n",
              "      <td>0.0</td>\n",
              "      <td>0.000000</td>\n",
              "      <td>0.049180</td>\n",
              "      <td>0.0</td>\n",
              "      <td>0.008197</td>\n",
              "      <td>0.057377</td>\n",
              "      <td>0.180328</td>\n",
              "      <td>0.0</td>\n",
              "      <td>1</td>\n",
              "    </tr>\n",
              "  </tbody>\n",
              "</table>\n",
              "</div>"
            ],
            "text/plain": [
              "   Unnamed: 0    userId  tier  ...  slot4_trails_watched_per_day  avgt2  age_group\n",
              "0      265153  48958844     2  ...                      0.033333    0.0          1\n",
              "1      405231  51100441     2  ...                      0.033898   82.5          2\n",
              "2       57867   6887426     2  ...                      0.000000    0.0          1\n",
              "3      272618  50742404     2  ...                      0.008403    0.0          1\n",
              "4      251123  45589200     2  ...                      0.180328    0.0          1\n",
              "\n",
              "[5 rows x 27 columns]"
            ]
          },
          "metadata": {
            "tags": []
          },
          "execution_count": 4
        }
      ]
    },
    {
      "cell_type": "code",
      "metadata": {
        "colab": {
          "base_uri": "https://localhost:8080/"
        },
        "id": "1G-ytzp1s6Kj",
        "outputId": "423c289b-da92-41c1-a3ac-5704192155f5"
      },
      "source": [
        "data.isnull().sum()"
      ],
      "execution_count": 5,
      "outputs": [
        {
          "output_type": "execute_result",
          "data": {
            "text/plain": [
              "Unnamed: 0                         0\n",
              "userId                             0\n",
              "tier                               0\n",
              "gender                             0\n",
              "following_rate                     0\n",
              "followers_avg_age                  0\n",
              "following_avg_age                  0\n",
              "max_repetitive_punc                0\n",
              "num_of_hashtags_per_action         0\n",
              "emoji_count_per_action             0\n",
              "punctuations_per_action            0\n",
              "number_of_words_per_action         0\n",
              "avgCompletion                      0\n",
              "avgTimeSpent                       0\n",
              "avgDuration                        0\n",
              "avgComments                        0\n",
              "creations                          0\n",
              "content_views                      0\n",
              "num_of_comments                    0\n",
              "weekends_trails_watched_per_day    0\n",
              "weekdays_trails_watched_per_day    0\n",
              "slot1_trails_watched_per_day       0\n",
              "slot2_trails_watched_per_day       0\n",
              "slot3_trails_watched_per_day       0\n",
              "slot4_trails_watched_per_day       0\n",
              "avgt2                              0\n",
              "age_group                          0\n",
              "dtype: int64"
            ]
          },
          "metadata": {
            "tags": []
          },
          "execution_count": 5
        }
      ]
    },
    {
      "cell_type": "code",
      "metadata": {
        "colab": {
          "base_uri": "https://localhost:8080/"
        },
        "id": "Rw_XV1L4tDBc",
        "outputId": "6b5a536e-f89d-45fc-f767-3409bc668b15"
      },
      "source": [
        "data.info()"
      ],
      "execution_count": 6,
      "outputs": [
        {
          "output_type": "stream",
          "text": [
            "<class 'pandas.core.frame.DataFrame'>\n",
            "RangeIndex: 488877 entries, 0 to 488876\n",
            "Data columns (total 27 columns):\n",
            " #   Column                           Non-Null Count   Dtype  \n",
            "---  ------                           --------------   -----  \n",
            " 0   Unnamed: 0                       488877 non-null  int64  \n",
            " 1   userId                           488877 non-null  int64  \n",
            " 2   tier                             488877 non-null  int64  \n",
            " 3   gender                           488877 non-null  int64  \n",
            " 4   following_rate                   488877 non-null  float64\n",
            " 5   followers_avg_age                488877 non-null  float64\n",
            " 6   following_avg_age                488877 non-null  float64\n",
            " 7   max_repetitive_punc              488877 non-null  int64  \n",
            " 8   num_of_hashtags_per_action       488877 non-null  float64\n",
            " 9   emoji_count_per_action           488877 non-null  float64\n",
            " 10  punctuations_per_action          488877 non-null  float64\n",
            " 11  number_of_words_per_action       488877 non-null  float64\n",
            " 12  avgCompletion                    488877 non-null  float64\n",
            " 13  avgTimeSpent                     488877 non-null  float64\n",
            " 14  avgDuration                      488877 non-null  float64\n",
            " 15  avgComments                      488877 non-null  int64  \n",
            " 16  creations                        488877 non-null  float64\n",
            " 17  content_views                    488877 non-null  float64\n",
            " 18  num_of_comments                  488877 non-null  float64\n",
            " 19  weekends_trails_watched_per_day  488877 non-null  float64\n",
            " 20  weekdays_trails_watched_per_day  488877 non-null  float64\n",
            " 21  slot1_trails_watched_per_day     488877 non-null  float64\n",
            " 22  slot2_trails_watched_per_day     488877 non-null  float64\n",
            " 23  slot3_trails_watched_per_day     488877 non-null  float64\n",
            " 24  slot4_trails_watched_per_day     488877 non-null  float64\n",
            " 25  avgt2                            488877 non-null  float64\n",
            " 26  age_group                        488877 non-null  int64  \n",
            "dtypes: float64(20), int64(7)\n",
            "memory usage: 100.7 MB\n"
          ],
          "name": "stdout"
        }
      ]
    },
    {
      "cell_type": "code",
      "metadata": {
        "id": "dTMAj4vntC7D"
      },
      "source": [
        "import seaborn as sns\n",
        "import matplotlib.pyplot as plt"
      ],
      "execution_count": 7,
      "outputs": []
    },
    {
      "cell_type": "code",
      "metadata": {
        "colab": {
          "base_uri": "https://localhost:8080/",
          "height": 352
        },
        "id": "sVZZ45QPtC2a",
        "outputId": "3eda14e9-2c5a-42d9-eb5e-5cd0fb033d7f"
      },
      "source": [
        "sns.countplot('gender',data=data)"
      ],
      "execution_count": 8,
      "outputs": [
        {
          "output_type": "stream",
          "text": [
            "/usr/local/lib/python3.6/dist-packages/seaborn/_decorators.py:43: FutureWarning: Pass the following variable as a keyword arg: x. From version 0.12, the only valid positional argument will be `data`, and passing other arguments without an explicit keyword will result in an error or misinterpretation.\n",
            "  FutureWarning\n"
          ],
          "name": "stderr"
        },
        {
          "output_type": "execute_result",
          "data": {
            "text/plain": [
              "<matplotlib.axes._subplots.AxesSubplot at 0x7ff0648209b0>"
            ]
          },
          "metadata": {
            "tags": []
          },
          "execution_count": 8
        },
        {
          "output_type": "display_data",
          "data": {
            "image/png": "[encoded data removed]",
            "text/plain": [
              "<Figure size 432x288 with 1 Axes>"
            ]
          },
          "metadata": {
            "tags": [],
            "needs_background": "light"
          }
        }
      ]
    },
    {
      "cell_type": "code",
      "metadata": {
        "colab": {
          "base_uri": "https://localhost:8080/",
          "height": 350
        },
        "id": "cL3OftJEtCxj",
        "outputId": "b2da9c40-3fae-4d4a-f788-3bd843f001ba"
      },
      "source": [
        "sns.countplot('tier',data=data)"
      ],
      "execution_count": 9,
      "outputs": [
        {
          "output_type": "stream",
          "text": [
            "/usr/local/lib/python3.6/dist-packages/seaborn/_decorators.py:43: FutureWarning: Pass the following variable as a keyword arg: x. From version 0.12, the only valid positional argument will be `data`, and passing other arguments without an explicit keyword will result in an error or misinterpretation.\n",
            "  FutureWarning\n"
          ],
          "name": "stderr"
        },
        {
          "output_type": "execute_result",
          "data": {
            "text/plain": [
              "<matplotlib.axes._subplots.AxesSubplot at 0x7ff064770fd0>"
            ]
          },
          "metadata": {
            "tags": []
          },
          "execution_count": 9
        },
        {
          "output_type": "display_data",
          "data": {
            "image/png": "[encoded data removed]",
            "text/plain": [
              "<Figure size 432x288 with 1 Axes>"
            ]
          },
          "metadata": {
            "tags": [],
            "needs_background": "light"
          }
        }
      ]
    },
    {
      "cell_type": "code",
      "metadata": {
        "id": "6JaCjx4jtCr7"
      },
      "source": [
        "data=data.sample(frac=1).reset_index(drop=True)"
      ],
      "execution_count": 10,
      "outputs": []
    },
    {
      "cell_type": "code",
      "metadata": {
        "colab": {
          "base_uri": "https://localhost:8080/",
          "height": 296
        },
        "id": "znJgxS37tChs",
        "outputId": "14d01fe0-6c46-4597-d85e-222a7293468a"
      },
      "source": [
        "sns.set_style(\"whitegrid\") \n",
        "  \n",
        "sns.boxplot(x = 'age_group', y = 'following_rate', data = data) "
      ],
      "execution_count": 11,
      "outputs": [
        {
          "output_type": "execute_result",
          "data": {
            "text/plain": [
              "<matplotlib.axes._subplots.AxesSubplot at 0x7ff0647ce4e0>"
            ]
          },
          "metadata": {
            "tags": []
          },
          "execution_count": 11
        },
        {
          "output_type": "display_data",
          "data": {
            "image/png": "[encoded data removed]",
            "text/plain": [
              "<Figure size 432x288 with 1 Axes>"
            ]
          },
          "metadata": {
            "tags": []
          }
        }
      ]
    },
    {
      "cell_type": "code",
      "metadata": {
        "colab": {
          "base_uri": "https://localhost:8080/",
          "height": 296
        },
        "id": "qDBUGbmZtCKB",
        "outputId": "238242ea-31ef-4e41-c044-05b559872611"
      },
      "source": [
        "sns.boxplot(x = 'tier', y = 'age_group', data = data) "
      ],
      "execution_count": 12,
      "outputs": [
        {
          "output_type": "execute_result",
          "data": {
            "text/plain": [
              "<matplotlib.axes._subplots.AxesSubplot at 0x7ff064234588>"
            ]
          },
          "metadata": {
            "tags": []
          },
          "execution_count": 12
        },
        {
          "output_type": "display_data",
          "data": {
            "image/png": "[encoded data removed]",
            "text/plain": [
              "<Figure size 432x288 with 1 Axes>"
            ]
          },
          "metadata": {
            "tags": []
          }
        }
      ]
    },
    {
      "cell_type": "code",
      "metadata": {
        "id": "hZzcuUy2tf4B"
      },
      "source": [
        "from sklearn.preprocessing import OneHotEncoder\n",
        "enc = OneHotEncoder(handle_unknown='ignore')"
      ],
      "execution_count": 13,
      "outputs": []
    },
    {
      "cell_type": "code",
      "metadata": {
        "colab": {
          "base_uri": "https://localhost:8080/",
          "height": 131
        },
        "id": "hJ7UemFntgnK",
        "outputId": "d8702b1e-a799-4107-8096-0c7232544da9"
      },
      "source": [
        "enc_df = pd.DataFrame(enc.fit_transform(data[['tier']]).toarray())\n",
        "data = data.join(enc_df)\n",
        "data = data.rename(columns={0: 'tier_1', 1: 'tier_2',2:'tier_3' })\n",
        "data.drop(['userId','tier','Unnamed: 0'],axis=1,inplace=True)\n",
        "data.head(2)"
      ],
      "execution_count": 14,
      "outputs": [
        {
          "output_type": "execute_result",
          "data": {
            "text/html": [
              "<div>\n",
              "<style scoped>\n",
              "    .dataframe tbody tr th:only-of-type {\n",
              "        vertical-align: middle;\n",
              "    }\n",
              "\n",
              "    .dataframe tbody tr th {\n",
              "        vertical-align: top;\n",
              "    }\n",
              "\n",
              "    .dataframe thead th {\n",
              "        text-align: right;\n",
              "    }\n",
              "</style>\n",
              "<table border=\"1\" class=\"dataframe\">\n",
              "  <thead>\n",
              "    <tr style=\"text-align: right;\">\n",
              "      <th></th>\n",
              "      <th>gender</th>\n",
              "      <th>following_rate</th>\n",
              "      <th>followers_avg_age</th>\n",
              "      <th>following_avg_age</th>\n",
              "      <th>max_repetitive_punc</th>\n",
              "      <th>num_of_hashtags_per_action</th>\n",
              "      <th>emoji_count_per_action</th>\n",
              "      <th>punctuations_per_action</th>\n",
              "      <th>number_of_words_per_action</th>\n",
              "      <th>avgCompletion</th>\n",
              "      <th>avgTimeSpent</th>\n",
              "      <th>avgDuration</th>\n",
              "      <th>avgComments</th>\n",
              "      <th>creations</th>\n",
              "      <th>content_views</th>\n",
              "      <th>num_of_comments</th>\n",
              "      <th>weekends_trails_watched_per_day</th>\n",
              "      <th>weekdays_trails_watched_per_day</th>\n",
              "      <th>slot1_trails_watched_per_day</th>\n",
              "      <th>slot2_trails_watched_per_day</th>\n",
              "      <th>slot3_trails_watched_per_day</th>\n",
              "      <th>slot4_trails_watched_per_day</th>\n",
              "      <th>avgt2</th>\n",
              "      <th>age_group</th>\n",
              "      <th>tier_1</th>\n",
              "      <th>tier_2</th>\n",
              "      <th>tier_3</th>\n",
              "    </tr>\n",
              "  </thead>\n",
              "  <tbody>\n",
              "    <tr>\n",
              "      <th>0</th>\n",
              "      <td>1</td>\n",
              "      <td>0.0</td>\n",
              "      <td>0.0</td>\n",
              "      <td>0.0</td>\n",
              "      <td>0</td>\n",
              "      <td>0.0</td>\n",
              "      <td>0.0</td>\n",
              "      <td>0.0</td>\n",
              "      <td>0.117647</td>\n",
              "      <td>0.066148</td>\n",
              "      <td>6.950000</td>\n",
              "      <td>152.288583</td>\n",
              "      <td>0</td>\n",
              "      <td>0.007937</td>\n",
              "      <td>0.119048</td>\n",
              "      <td>0.0</td>\n",
              "      <td>0.000</td>\n",
              "      <td>0.031746</td>\n",
              "      <td>0.0</td>\n",
              "      <td>0.0</td>\n",
              "      <td>0.0</td>\n",
              "      <td>0.15873</td>\n",
              "      <td>0.0</td>\n",
              "      <td>3</td>\n",
              "      <td>0.0</td>\n",
              "      <td>1.0</td>\n",
              "      <td>0.0</td>\n",
              "    </tr>\n",
              "    <tr>\n",
              "      <th>1</th>\n",
              "      <td>1</td>\n",
              "      <td>0.0</td>\n",
              "      <td>0.0</td>\n",
              "      <td>0.0</td>\n",
              "      <td>0</td>\n",
              "      <td>0.0</td>\n",
              "      <td>0.0</td>\n",
              "      <td>0.0</td>\n",
              "      <td>0.000000</td>\n",
              "      <td>0.025961</td>\n",
              "      <td>1.666667</td>\n",
              "      <td>96.425333</td>\n",
              "      <td>0</td>\n",
              "      <td>0.000000</td>\n",
              "      <td>0.024000</td>\n",
              "      <td>0.0</td>\n",
              "      <td>0.012</td>\n",
              "      <td>0.000000</td>\n",
              "      <td>0.0</td>\n",
              "      <td>0.0</td>\n",
              "      <td>0.0</td>\n",
              "      <td>0.02400</td>\n",
              "      <td>0.0</td>\n",
              "      <td>1</td>\n",
              "      <td>0.0</td>\n",
              "      <td>1.0</td>\n",
              "      <td>0.0</td>\n",
              "    </tr>\n",
              "  </tbody>\n",
              "</table>\n",
              "</div>"
            ],
            "text/plain": [
              "   gender  following_rate  followers_avg_age  ...  tier_1  tier_2  tier_3\n",
              "0       1             0.0                0.0  ...     0.0     1.0     0.0\n",
              "1       1             0.0                0.0  ...     0.0     1.0     0.0\n",
              "\n",
              "[2 rows x 27 columns]"
            ]
          },
          "metadata": {
            "tags": []
          },
          "execution_count": 14
        }
      ]
    },
    {
      "cell_type": "code",
      "metadata": {
        "id": "GtPguxqPtgjF"
      },
      "source": [
        "enc_df1 = pd.DataFrame(enc.fit_transform(data[['gender']]).toarray())\n",
        "data = data.join(enc_df1)\n",
        "data = data.rename(columns={0: 'gender_male', 1: 'gender_female' })\n",
        "data.drop(['gender'],axis=1,inplace=True)"
      ],
      "execution_count": 15,
      "outputs": []
    },
    {
      "cell_type": "code",
      "metadata": {
        "id": "pgmvX4-0tgfQ"
      },
      "source": [
        "X=data.drop(['age_group'],axis=1)\n",
        "y=data['age_group']"
      ],
      "execution_count": 16,
      "outputs": []
    },
    {
      "cell_type": "code",
      "metadata": {
        "id": "xDuBtji6uJhf"
      },
      "source": [
        "from sklearn import metrics\n",
        "from sklearn.model_selection import train_test_split"
      ],
      "execution_count": 17,
      "outputs": []
    },
    {
      "cell_type": "code",
      "metadata": {
        "id": "WBWWPKoEuJdh"
      },
      "source": [
        "train_x,test_x,train_y,test_y=train_test_split(X,y,test_size=.0625,random_state=42)"
      ],
      "execution_count": 18,
      "outputs": []
    },
    {
      "cell_type": "code",
      "metadata": {
        "id": "aChrd6Cj4U9P"
      },
      "source": [
        "test_data = pd.read_csv(\"/content/drive/MyDrive/test_age_dataset.csv\")"
      ],
      "execution_count": null,
      "outputs": []
    },
    {
      "cell_type": "code",
      "metadata": {
        "id": "doNJ_Dz64U2f"
      },
      "source": [
        "from sklearn.preprocessing import OneHotEncoder\n",
        "enc = OneHotEncoder(handle_unknown='ignore')\n",
        "enc_df = pd.DataFrame(enc.fit_transform(test_data[['tier']]).toarray())\n",
        "test_data = test_data.join(enc_df)\n",
        "test_data = test_data.rename(columns={0: 'tier_1', 1: 'tier_2',2:'tier_3' })\n",
        "test_data.drop(['userId','tier','Unnamed: 0'],axis=1,inplace=True)\n",
        "enc_df1 = pd.DataFrame(enc.fit_transform(test_data[['gender']]).toarray())\n",
        "test_data = test_data.join(enc_df1)\n",
        "test_data = test_data.rename(columns={0: 'gender_male', 1: 'gender_female' })\n",
        "test_data.drop(['gender'],axis=1,inplace=True)"
      ],
      "execution_count": null,
      "outputs": []
    },
    {
      "cell_type": "code",
      "metadata": {
        "id": "BseoyZKO4UyT",
        "colab": {
          "base_uri": "https://localhost:8080/",
          "height": 131
        },
        "outputId": "903eeaa6-b23c-4d4b-b2c8-3ba811aac5a6"
      },
      "source": [
        "test_data.head(2)"
      ],
      "execution_count": null,
      "outputs": [
        {
          "output_type": "execute_result",
          "data": {
            "text/html": [
              "<div>\n",
              "<style scoped>\n",
              "    .dataframe tbody tr th:only-of-type {\n",
              "        vertical-align: middle;\n",
              "    }\n",
              "\n",
              "    .dataframe tbody tr th {\n",
              "        vertical-align: top;\n",
              "    }\n",
              "\n",
              "    .dataframe thead th {\n",
              "        text-align: right;\n",
              "    }\n",
              "</style>\n",
              "<table border=\"1\" class=\"dataframe\">\n",
              "  <thead>\n",
              "    <tr style=\"text-align: right;\">\n",
              "      <th></th>\n",
              "      <th>following_rate</th>\n",
              "      <th>followers_avg_age</th>\n",
              "      <th>following_avg_age</th>\n",
              "      <th>max_repetitive_punc</th>\n",
              "      <th>num_of_hashtags_per_action</th>\n",
              "      <th>emoji_count_per_action</th>\n",
              "      <th>punctuations_per_action</th>\n",
              "      <th>number_of_words_per_action</th>\n",
              "      <th>avgCompletion</th>\n",
              "      <th>avgTimeSpent</th>\n",
              "      <th>avgDuration</th>\n",
              "      <th>avgComments</th>\n",
              "      <th>creations</th>\n",
              "      <th>content_views</th>\n",
              "      <th>num_of_comments</th>\n",
              "      <th>weekends_trails_watched_per_day</th>\n",
              "      <th>weekdays_trails_watched_per_day</th>\n",
              "      <th>slot1_trails_watched_per_day</th>\n",
              "      <th>slot2_trails_watched_per_day</th>\n",
              "      <th>slot3_trails_watched_per_day</th>\n",
              "      <th>slot4_trails_watched_per_day</th>\n",
              "      <th>avgt2</th>\n",
              "      <th>tier_1</th>\n",
              "      <th>tier_2</th>\n",
              "      <th>tier_3</th>\n",
              "      <th>gender_male</th>\n",
              "      <th>gender_female</th>\n",
              "    </tr>\n",
              "  </thead>\n",
              "  <tbody>\n",
              "    <tr>\n",
              "      <th>0</th>\n",
              "      <td>0.000000</td>\n",
              "      <td>0.0</td>\n",
              "      <td>0.0</td>\n",
              "      <td>0</td>\n",
              "      <td>0.0</td>\n",
              "      <td>0.0</td>\n",
              "      <td>0.0</td>\n",
              "      <td>0.0</td>\n",
              "      <td>0.033242</td>\n",
              "      <td>4.5</td>\n",
              "      <td>120.313571</td>\n",
              "      <td>0</td>\n",
              "      <td>0.0</td>\n",
              "      <td>0.062992</td>\n",
              "      <td>0.0</td>\n",
              "      <td>0.0</td>\n",
              "      <td>0.012598</td>\n",
              "      <td>0.0</td>\n",
              "      <td>0.0</td>\n",
              "      <td>0.062992</td>\n",
              "      <td>0.0</td>\n",
              "      <td>0.0</td>\n",
              "      <td>0.0</td>\n",
              "      <td>1.0</td>\n",
              "      <td>0.0</td>\n",
              "      <td>1.0</td>\n",
              "      <td>0.0</td>\n",
              "    </tr>\n",
              "    <tr>\n",
              "      <th>1</th>\n",
              "      <td>0.001818</td>\n",
              "      <td>0.0</td>\n",
              "      <td>0.0</td>\n",
              "      <td>0</td>\n",
              "      <td>0.0</td>\n",
              "      <td>0.0</td>\n",
              "      <td>0.0</td>\n",
              "      <td>0.0</td>\n",
              "      <td>0.051057</td>\n",
              "      <td>9.5</td>\n",
              "      <td>188.615500</td>\n",
              "      <td>0</td>\n",
              "      <td>0.0</td>\n",
              "      <td>0.003636</td>\n",
              "      <td>0.0</td>\n",
              "      <td>0.0</td>\n",
              "      <td>0.000727</td>\n",
              "      <td>0.0</td>\n",
              "      <td>0.0</td>\n",
              "      <td>0.003636</td>\n",
              "      <td>0.0</td>\n",
              "      <td>0.0</td>\n",
              "      <td>0.0</td>\n",
              "      <td>1.0</td>\n",
              "      <td>0.0</td>\n",
              "      <td>1.0</td>\n",
              "      <td>0.0</td>\n",
              "    </tr>\n",
              "  </tbody>\n",
              "</table>\n",
              "</div>"
            ],
            "text/plain": [
              "   following_rate  followers_avg_age  ...  gender_male  gender_female\n",
              "0        0.000000                0.0  ...          1.0            0.0\n",
              "1        0.001818                0.0  ...          1.0            0.0\n",
              "\n",
              "[2 rows x 27 columns]"
            ]
          },
          "metadata": {
            "tags": []
          },
          "execution_count": 30
        }
      ]
    },
    {
      "cell_type": "code",
      "metadata": {
        "id": "RiMZWWp84UuU"
      },
      "source": [
        "predict = model.predict(test_data)"
      ],
      "execution_count": null,
      "outputs": []
    },
    {
      "cell_type": "code",
      "metadata": {
        "id": "PJhV7kZG4Uph"
      },
      "source": [
        "df = pd.DataFrame({\"prediction\" : predict}, columns = [\"prediction\"]).set_index(\"prediction\")"
      ],
      "execution_count": null,
      "outputs": []
    },
    {
      "cell_type": "code",
      "metadata": {
        "id": "6Sbs8BA27E6R"
      },
      "source": [
        "df.head()"
      ],
      "execution_count": null,
      "outputs": []
    },
    {
      "cell_type": "code",
      "metadata": {
        "id": "ufLDD3f07GK5"
      },
      "source": [
        "def download_preds(df, file_name = 'outliers_4_test_predicted.csv'):\n",
        "  df.to_csv(file_name)\n",
        "  from google.colab import files\n",
        "  files.download(file_name)\n",
        "download_preds(df, file_name = 'outliers_4_test_predicted.csv')"
      ],
      "execution_count": null,
      "outputs": []
    },
    {
      "cell_type": "code",
      "metadata": {
        "colab": {
          "base_uri": "https://localhost:8080/"
        },
        "id": "XIVnvGhLn8dD",
        "outputId": "8cee7a06-6900-45e5-e7e8-d52de4ef826b"
      },
      "source": [
        "!pip install catboost"
      ],
      "execution_count": null,
      "outputs": [
        {
          "output_type": "stream",
          "text": [
            "Collecting catboost\n",
            "\u001b[?25l  Downloading https://files.pythonhosted.org/packages/7e/c1/c1c4707013f9e2f8a96899dd3a87f66c9167d6d776a6dc8fe7ec8678d446/catboost-0.24.3-cp36-none-manylinux1_x86_64.whl (66.3MB)\n",
            "\u001b[K     |████████████████████████████████| 66.3MB 44kB/s \n",
            "\u001b[?25hRequirement already satisfied: pandas>=0.24.0 in /usr/local/lib/python3.6/dist-packages (from catboost) (1.1.4)\n",
            "Requirement already satisfied: graphviz in /usr/local/lib/python3.6/dist-packages (from catboost) (0.10.1)\n",
            "Requirement already satisfied: six in /usr/local/lib/python3.6/dist-packages (from catboost) (1.15.0)\n",
            "Requirement already satisfied: numpy>=1.16.0 in /usr/local/lib/python3.6/dist-packages (from catboost) (1.18.5)\n",
            "Requirement already satisfied: matplotlib in /usr/local/lib/python3.6/dist-packages (from catboost) (3.2.2)\n",
            "Requirement already satisfied: plotly in /usr/local/lib/python3.6/dist-packages (from catboost) (4.4.1)\n",
            "Requirement already satisfied: scipy in /usr/local/lib/python3.6/dist-packages (from catboost) (1.4.1)\n",
            "Requirement already satisfied: python-dateutil>=2.7.3 in /usr/local/lib/python3.6/dist-packages (from pandas>=0.24.0->catboost) (2.8.1)\n",
            "Requirement already satisfied: pytz>=2017.2 in /usr/local/lib/python3.6/dist-packages (from pandas>=0.24.0->catboost) (2018.9)\n",
            "Requirement already satisfied: cycler>=0.10 in /usr/local/lib/python3.6/dist-packages (from matplotlib->catboost) (0.10.0)\n",
            "Requirement already satisfied: kiwisolver>=1.0.1 in /usr/local/lib/python3.6/dist-packages (from matplotlib->catboost) (1.3.1)\n",
            "Requirement already satisfied: pyparsing!=2.0.4,!=2.1.2,!=2.1.6,>=2.0.1 in /usr/local/lib/python3.6/dist-packages (from matplotlib->catboost) (2.4.7)\n",
            "Requirement already satisfied: retrying>=1.3.3 in /usr/local/lib/python3.6/dist-packages (from plotly->catboost) (1.3.3)\n",
            "Installing collected packages: catboost\n",
            "Successfully installed catboost-0.24.3\n"
          ],
          "name": "stdout"
        }
      ]
    },
    {
      "cell_type": "code",
      "metadata": {
        "id": "85ZJDUGWn9Pa"
      },
      "source": [
        "from catboost import CatBoostClassifier\n",
        "import timeit"
      ],
      "execution_count": 19,
      "outputs": []
    },
    {
      "cell_type": "code",
      "metadata": {
        "id": "jFbCtd-PpCPK"
      },
      "source": [
        "model = CatBoostClassifier(iterations=950, learning_rate=0.005,task_type='GPU',max_depth=15, loss_function='MultiClass', border_count=64)"
      ],
      "execution_count": 20,
      "outputs": []
    },
    {
      "cell_type": "code",
      "metadata": {
        "colab": {
          "base_uri": "https://localhost:8080/"
        },
        "id": "NTyKo5_ZrJfo",
        "outputId": "1a9ebbfe-99f0-462b-ab9d-a7b8395e9846"
      },
      "source": [
        "model.fit(train_x, train_y, eval_set=(test_x, test_y))"
      ],
      "execution_count": 21,
      "outputs": [
        {
          "output_type": "stream",
          "text": [
            "936:\tlearn: 0.5612065\ttest: 0.5928054\tbest: 0.5928054 (936)\ttotal: 9m 33s\tremaining: 7.96s\n",
            "937:\tlearn: 0.5611356\ttest: 0.5927737\tbest: 0.5927737 (937)\ttotal: 9m 34s\tremaining: 7.34s\n",
            "938:\tlearn: 0.5610689\ttest: 0.5927437\tbest: 0.5927437 (938)\ttotal: 9m 34s\tremaining: 6.73s\n",
            "939:\tlearn: 0.5610052\ttest: 0.5926990\tbest: 0.5926990 (939)\ttotal: 9m 35s\tremaining: 6.12s\n",
            "940:\tlearn: 0.5609405\ttest: 0.5926507\tbest: 0.5926507 (940)\ttotal: 9m 35s\tremaining: 5.51s\n",
            "941:\tlearn: 0.5608814\ttest: 0.5926151\tbest: 0.5926151 (941)\ttotal: 9m 36s\tremaining: 4.89s\n",
            "942:\tlearn: 0.5608091\ttest: 0.5925684\tbest: 0.5925684 (942)\ttotal: 9m 37s\tremaining: 4.28s\n",
            "943:\tlearn: 0.5607366\ttest: 0.5925125\tbest: 0.5925125 (943)\ttotal: 9m 37s\tremaining: 3.67s\n",
            "944:\tlearn: 0.5606546\ttest: 0.5924365\tbest: 0.5924365 (944)\ttotal: 9m 38s\tremaining: 3.06s\n",
            "945:\tlearn: 0.5605811\ttest: 0.5924234\tbest: 0.5924234 (945)\ttotal: 9m 38s\tremaining: 2.45s\n",
            "946:\tlearn: 0.5605218\ttest: 0.5923950\tbest: 0.5923950 (946)\ttotal: 9m 39s\tremaining: 1.83s\n",
            "947:\tlearn: 0.5604380\ttest: 0.5923259\tbest: 0.5923259 (947)\ttotal: 9m 40s\tremaining: 1.22s\n",
            "948:\tlearn: 0.5603764\ttest: 0.5922966\tbest: 0.5922966 (948)\ttotal: 9m 40s\tremaining: 612ms\n",
            "949:\tlearn: 0.5603103\ttest: 0.5922667\tbest: 0.5922667 (949)\ttotal: 9m 41s\tremaining: 0us\n",
            "bestTest = 0.5922666989\n",
            "bestIteration = 949\n"
          ],
          "name": "stdout"
        },
        {
          "output_type": "execute_result",
          "data": {
            "text/plain": [
              "<catboost.core.CatBoostClassifier at 0x7ff058d12d30>"
            ]
          },
          "metadata": {
            "tags": []
          },
          "execution_count": 21
        }
      ]
    },
    {
      "cell_type": "code",
      "metadata": {
        "colab": {
          "base_uri": "https://localhost:8080/"
        },
        "id": "TF4HeAsap582",
        "outputId": "88e8628c-e480-4bac-97fb-73c80fdd4ec3"
      },
      "source": [
        "model.score(train_x,train_y)"
      ],
      "execution_count": 22,
      "outputs": [
        {
          "output_type": "execute_result",
          "data": {
            "text/plain": [
              "0.7625599469368697"
            ]
          },
          "metadata": {
            "tags": []
          },
          "execution_count": 22
        }
      ]
    },
    {
      "cell_type": "code",
      "metadata": {
        "colab": {
          "base_uri": "https://localhost:8080/"
        },
        "id": "QoW5DfOPp-qd",
        "outputId": "4175e0f8-d5c7-45d8-c2f9-fbb04307b567"
      },
      "source": [
        "model.score(test_x,test_y)"
      ],
      "execution_count": 23,
      "outputs": [
        {
          "output_type": "execute_result",
          "data": {
            "text/plain": [
              "0.7283586974308623"
            ]
          },
          "metadata": {
            "tags": []
          },
          "execution_count": 23
        }
      ]
    },
    {
      "cell_type": "code",
      "metadata": {
        "id": "Xi_iwPqqrOKI"
      },
      "source": [
        ""
      ],
      "execution_count": null,
      "outputs": []
    }
  ]
}